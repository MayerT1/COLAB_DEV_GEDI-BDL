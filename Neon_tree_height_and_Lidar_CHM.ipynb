{
  "nbformat": 4,
  "nbformat_minor": 0,
  "metadata": {
    "colab": {
      "provenance": [],
      "authorship_tag": "ABX9TyML8bzAZrxSWZn8//CToywN",
      "include_colab_link": true
    },
    "kernelspec": {
      "name": "ir",
      "display_name": "R"
    },
    "language_info": {
      "name": "R"
    }
  },
  "cells": [
    {
      "cell_type": "markdown",
      "metadata": {
        "id": "view-in-github",
        "colab_type": "text"
      },
      "source": [
        "<a href=\"https://colab.research.google.com/github/MayerT1/COLAB_DEV_GEDI-BDL/blob/main/Neon_tree_height_and_Lidar_CHM.ipynb\" target=\"_parent\"><img src=\"https://colab.research.google.com/assets/colab-badge.svg\" alt=\"Open In Colab\"/></a>"
      ]
    },
    {
      "cell_type": "markdown",
      "source": [
        "https://www.neonscience.org/resources/learning-hub/tutorials/tree-heights-veg-structure-chm"
      ],
      "metadata": {
        "id": "dEoSrdcGBk3c"
      }
    },
    {
      "cell_type": "markdown",
      "source": [
        "Make sure this is set up Runtime-> Change Runtime Type -> Run Time Type -> R"
      ],
      "metadata": {
        "id": "oGmGnl-uQYmy"
      }
    },
    {
      "cell_type": "markdown",
      "source": [
        "# 1. Setup"
      ],
      "metadata": {
        "id": "tqiP6j6CGOtc"
      }
    },
    {
      "cell_type": "code",
      "execution_count": 9,
      "metadata": {
        "colab": {
          "base_uri": "https://localhost:8080/"
        },
        "id": "gKrvASGXAFqs",
        "outputId": "11c21cd6-99bb-4e5f-dacd-a84fb1220f50"
      },
      "outputs": [
        {
          "output_type": "stream",
          "name": "stderr",
          "text": [
            "Installing package into ‘/usr/local/lib/R/site-library’\n",
            "(as ‘lib’ is unspecified)\n",
            "\n",
            "also installing the dependencies ‘R.oo’, ‘R.methodsS3’, ‘downloader’, ‘R.utils’, ‘pbapply’\n",
            "\n",
            "\n"
          ]
        }
      ],
      "source": [
        "install.packages(\"neonUtilities\")"
      ]
    },
    {
      "cell_type": "code",
      "source": [
        "install.packages(\"neonOS\")"
      ],
      "metadata": {
        "colab": {
          "base_uri": "https://localhost:8080/"
        },
        "id": "AJNu31BeA4Cq",
        "outputId": "23d9243b-ee7f-4996-ea47-ef36d3cc6314"
      },
      "execution_count": 10,
      "outputs": [
        {
          "output_type": "stream",
          "name": "stderr",
          "text": [
            "Installing package into ‘/usr/local/lib/R/site-library’\n",
            "(as ‘lib’ is unspecified)\n",
            "\n"
          ]
        }
      ]
    },
    {
      "cell_type": "code",
      "source": [
        "install.packages(\"terra\")"
      ],
      "metadata": {
        "colab": {
          "base_uri": "https://localhost:8080/"
        },
        "id": "kQyNvwaJDMEx",
        "outputId": "53ac21fc-03a6-41d5-99bf-bbbb75688362"
      },
      "execution_count": 11,
      "outputs": [
        {
          "output_type": "stream",
          "name": "stderr",
          "text": [
            "Installing package into ‘/usr/local/lib/R/site-library’\n",
            "(as ‘lib’ is unspecified)\n",
            "\n"
          ]
        }
      ]
    },
    {
      "cell_type": "code",
      "source": [
        "install.packages(\"devtools\")"
      ],
      "metadata": {
        "colab": {
          "base_uri": "https://localhost:8080/"
        },
        "id": "TRWncg8HDO4E",
        "outputId": "53dd7064-1de5-4f11-d4e1-a00db800940a"
      },
      "execution_count": 12,
      "outputs": [
        {
          "output_type": "stream",
          "name": "stderr",
          "text": [
            "Installing package into ‘/usr/local/lib/R/site-library’\n",
            "(as ‘lib’ is unspecified)\n",
            "\n"
          ]
        }
      ]
    },
    {
      "cell_type": "code",
      "source": [
        "devtools::install_github(\"NEONScience/NEON-geolocation/geoNEON\")"
      ],
      "metadata": {
        "colab": {
          "base_uri": "https://localhost:8080/"
        },
        "id": "SzsULCfsDQTl",
        "outputId": "a42e8294-7a27-4390-f15e-d3cfbf84c508"
      },
      "execution_count": 13,
      "outputs": [
        {
          "output_type": "stream",
          "name": "stderr",
          "text": [
            "Downloading GitHub repo NEONScience/NEON-geolocation@HEAD\n",
            "\n"
          ]
        },
        {
          "output_type": "stream",
          "name": "stdout",
          "text": [
            "R6   (2.6.0 -> 2.6.1) [CRAN]\n",
            "plyr (NA    -> 1.8.9) [CRAN]\n"
          ]
        },
        {
          "output_type": "stream",
          "name": "stderr",
          "text": [
            "Installing 2 packages: R6, plyr\n",
            "\n",
            "Installing packages into ‘/usr/local/lib/R/site-library’\n",
            "(as ‘lib’ is unspecified)\n",
            "\n"
          ]
        },
        {
          "output_type": "stream",
          "name": "stdout",
          "text": [
            "\u001b[36m──\u001b[39m \u001b[36mR CMD build\u001b[39m \u001b[36m─────────────────────────────────────────────────────────────────\u001b[39m\n",
            "* checking for file ‘/tmp/Rtmpff3CZd/remotesb55fbba142/NEONScience-NEON-geolocation-59bdef7/geoNEON/DESCRIPTION’ ... OK\n",
            "* preparing ‘geoNEON’:\n",
            "* checking DESCRIPTION meta-information ... OK\n",
            "* checking for LF line-endings in source and make files and shell scripts\n",
            "* checking for empty or unneeded directories\n",
            "* building ‘geoNEON_1.0.0.9600.tar.gz’\n",
            "\n"
          ]
        },
        {
          "output_type": "stream",
          "name": "stderr",
          "text": [
            "Installing package into ‘/usr/local/lib/R/site-library’\n",
            "(as ‘lib’ is unspecified)\n",
            "\n"
          ]
        }
      ]
    },
    {
      "cell_type": "markdown",
      "source": [
        "Libraries"
      ],
      "metadata": {
        "id": "VFLC6UZRFBYC"
      }
    },
    {
      "cell_type": "code",
      "source": [
        "library(terra)"
      ],
      "metadata": {
        "colab": {
          "base_uri": "https://localhost:8080/"
        },
        "id": "ROY_6OWCFFUe",
        "outputId": "2747fac3-2973-4b27-835a-1ae7a8a70312"
      },
      "execution_count": 14,
      "outputs": [
        {
          "output_type": "stream",
          "name": "stderr",
          "text": [
            "terra 1.8.21\n",
            "\n"
          ]
        }
      ]
    },
    {
      "cell_type": "code",
      "source": [
        "library(neonUtilities)"
      ],
      "metadata": {
        "id": "hPBfrqkOFNLu"
      },
      "execution_count": 15,
      "outputs": []
    },
    {
      "cell_type": "code",
      "source": [
        "library(neonOS)"
      ],
      "metadata": {
        "id": "FjRwq5L4FPWe"
      },
      "execution_count": 16,
      "outputs": []
    },
    {
      "cell_type": "code",
      "source": [
        "library(geoNEON)"
      ],
      "metadata": {
        "id": "yUcOWVqCFQ68"
      },
      "execution_count": 17,
      "outputs": []
    },
    {
      "cell_type": "code",
      "source": [
        "options(stringsAsFactors=F)\n",
        "\n",
        "# set working directory\n",
        "\n",
        "# adapt directory path for your system\n",
        "\n",
        "# wd <- \"~/data\"\n",
        "\n",
        "# setwd(wd)"
      ],
      "metadata": {
        "id": "ePY3cAK4FH2s"
      },
      "execution_count": 18,
      "outputs": []
    },
    {
      "cell_type": "code",
      "source": [
        "wd <- \"~/data\"\n"
      ],
      "metadata": {
        "id": "7qHPkvViRGP0"
      },
      "execution_count": 19,
      "outputs": []
    },
    {
      "cell_type": "code",
      "source": [
        "getwd()"
      ],
      "metadata": {
        "colab": {
          "base_uri": "https://localhost:8080/",
          "height": 34
        },
        "id": "fCinkhJORW_e",
        "outputId": "80f2aceb-5f87-4193-ebae-ea2cb2159c5f"
      },
      "execution_count": 23,
      "outputs": [
        {
          "output_type": "display_data",
          "data": {
            "text/html": [
              "'/content'"
            ],
            "text/markdown": "'/content'",
            "text/latex": "'/content'",
            "text/plain": [
              "[1] \"/content\""
            ]
          },
          "metadata": {}
        }
      ]
    },
    {
      "cell_type": "code",
      "source": [
        "#setwd(wd)"
      ],
      "metadata": {
        "colab": {
          "base_uri": "https://localhost:8080/",
          "height": 238
        },
        "id": "OWDQfywFRNcM",
        "outputId": "532ab869-ef81-4227-e84b-2679d7253c69"
      },
      "execution_count": 21,
      "outputs": [
        {
          "output_type": "error",
          "ename": "ERROR",
          "evalue": "Error in setwd(wd): cannot change working directory\n",
          "traceback": [
            "Error in setwd(wd): cannot change working directory\nTraceback:\n",
            "1. .handleSimpleError(function (cnd) \n . {\n .     watcher$capture_plot_and_output()\n .     cnd <- sanitize_call(cnd)\n .     watcher$push(cnd)\n .     switch(on_error, continue = invokeRestart(\"eval_continue\"), \n .         stop = invokeRestart(\"eval_stop\"), error = NULL)\n . }, \"cannot change working directory\", base::quote(setwd(wd)))"
          ]
        }
      ]
    },
    {
      "cell_type": "markdown",
      "source": [
        "# 2. Vegetation structure data"
      ],
      "metadata": {
        "id": "S7HeQ4k-FZNJ"
      }
    },
    {
      "cell_type": "markdown",
      "source": [
        "[Cheatsheet](https://www.neonscience.org/sites/default/files/cheat-sheet-neonUtilities.pdf)"
      ],
      "metadata": {
        "id": "aUIci5fuHNw3"
      }
    },
    {
      "cell_type": "code",
      "source": [
        "veglist <- loadByProduct(dpID=\"DP1.10098.001\",\n",
        "                         site=\"WREF\",\n",
        "                         package=\"basic\",\n",
        "                         release=\"RELEASE-2023\",\n",
        "                         check.size = FALSE)"
      ],
      "metadata": {
        "colab": {
          "base_uri": "https://localhost:8080/"
        },
        "id": "QVtssd3tFbo_",
        "outputId": "69c5c966-1507-43f5-bda0-45dda9758da0"
      },
      "execution_count": 22,
      "outputs": [
        {
          "output_type": "stream",
          "name": "stdout",
          "text": [
            "Finding available files\n",
            "  |======================================================================| 100%\n",
            "\n",
            "Downloading files totaling approximately 21.638422 MB\n",
            "Downloading 17 files\n",
            "  |======================================================================| 100%\n",
            "\n",
            "Unpacking zip files using 1 cores.\n",
            "Stacking operation across a single core.\n",
            "Stacking table vst_apparentindividual\n",
            "Stacking table vst_mappingandtagging\n",
            "Stacking table vst_perplotperyear\n",
            "Stacking table vst_non-woody\n",
            "Copied the most recent publication of validation file to /stackedFiles\n",
            "Copied the most recent publication of categoricalCodes file to /stackedFiles\n",
            "Copied the most recent publication of variable definition file to /stackedFiles\n",
            "Finished: Stacked 4 data tables and 4 metadata tables!\n",
            "Stacking took 2.838805 secs\n"
          ]
        }
      ]
    },
    {
      "cell_type": "code",
      "source": [
        "head(veglist)"
      ],
      "metadata": {
        "id": "m7SEaGv7I1Tb"
      },
      "execution_count": null,
      "outputs": []
    },
    {
      "cell_type": "code",
      "source": [
        "attributes(veglist)"
      ],
      "metadata": {
        "id": "KdFtTh8RI53Z"
      },
      "execution_count": null,
      "outputs": []
    },
    {
      "cell_type": "code",
      "source": [
        "vegmap <- getLocTOS(veglist$vst_mappingandtagging,\n",
        "                          \"vst_mappingandtagging\")"
      ],
      "metadata": {
        "id": "EY3YtUjYFhr2"
      },
      "execution_count": null,
      "outputs": []
    },
    {
      "cell_type": "code",
      "source": [
        "head(vegmap)"
      ],
      "metadata": {
        "id": "l8AltuQUIU9G"
      },
      "execution_count": null,
      "outputs": []
    },
    {
      "cell_type": "code",
      "source": [
        "attributes(vegmap)"
      ],
      "metadata": {
        "id": "WHjG87VoInBD"
      },
      "execution_count": null,
      "outputs": []
    },
    {
      "cell_type": "code",
      "source": [
        "veg <- joinTableNEON(veglist$vst_apparentindividual,\n",
        "                     vegmap,\n",
        "                     name1=\"vst_apparentindividual\",\n",
        "                     name2=\"vst_mappingandtagging\")"
      ],
      "metadata": {
        "id": "9LSwY0yhF_c2"
      },
      "execution_count": null,
      "outputs": []
    },
    {
      "cell_type": "code",
      "source": [
        "head(veg)"
      ],
      "metadata": {
        "id": "pcM2HnrAJp0t"
      },
      "execution_count": null,
      "outputs": []
    },
    {
      "cell_type": "code",
      "source": [
        "attributes(veg)"
      ],
      "metadata": {
        "id": "uXqh2xefJxY7"
      },
      "execution_count": null,
      "outputs": []
    },
    {
      "cell_type": "code",
      "source": [
        "symbols(veg$adjEasting[which(veg$plotID==\"WREF_075\")],\n",
        "        veg$adjNorthing[which(veg$plotID==\"WREF_075\")],\n",
        "        circles=veg$stemDiameter[which(veg$plotID==\"WREF_075\")]/100/2,\n",
        "        inches=F, xlab=\"Easting\", ylab=\"Northing\")"
      ],
      "metadata": {
        "id": "BJk0QljHGCiF"
      },
      "execution_count": null,
      "outputs": []
    },
    {
      "cell_type": "code",
      "source": [
        "symbols(veg$adjEasting[which(veg$plotID==\"WREF_075\")],\n",
        "        veg$adjNorthing[which(veg$plotID==\"WREF_075\")],\n",
        "        circles=veg$stemDiameter[which(veg$plotID==\"WREF_075\")]/100/2,\n",
        "        inches=F, xlab=\"Easting\", ylab=\"Northing\")\n",
        "\n",
        "symbols(veg$adjEasting[which(veg$plotID==\"WREF_075\")],\n",
        "        veg$adjNorthing[which(veg$plotID==\"WREF_075\")],\n",
        "        circles=veg$adjCoordinateUncertainty[which(veg$plotID==\"WREF_075\")],\n",
        "        inches=F, add=T, fg=\"lightblue\")"
      ],
      "metadata": {
        "id": "VTAwD1W_GF_n"
      },
      "execution_count": null,
      "outputs": []
    },
    {
      "cell_type": "markdown",
      "source": [
        "# Canopy height model data"
      ],
      "metadata": {
        "id": "gbjT5uc1GJxq"
      }
    },
    {
      "cell_type": "code",
      "source": [
        "byTileAOP(dpID=\"DP3.30015.001\", site=\"WREF\", year=\"2017\",\n",
        "          easting=veg$adjEasting[which(veg$plotID==\"WREF_075\")],\n",
        "          northing=veg$adjNorthing[which(veg$plotID==\"WREF_075\")],\n",
        "          check.size=FALSE, savepath=wd)\n",
        "\n",
        "\n",
        "\n",
        "chm <- rast(paste0(wd, \"/DP3.30015.001/neon-aop-products/2017/FullSite/D16/2017_WREF_1/L3/DiscreteLidar/CanopyHeightModelGtif/NEON_D16_WREF_DP3_580000_5075000_CHM.tif\"))"
      ],
      "metadata": {
        "id": "_8CFXXjuGVE_"
      },
      "execution_count": null,
      "outputs": []
    },
    {
      "cell_type": "code",
      "source": [
        "plot(chm, col=topo.colors(5))"
      ],
      "metadata": {
        "id": "sg3TP_4VGWlo"
      },
      "execution_count": null,
      "outputs": []
    },
    {
      "cell_type": "markdown",
      "source": [
        "# 4. Comparing the two datasets"
      ],
      "metadata": {
        "id": "VMYqzLnSGZUh"
      }
    },
    {
      "cell_type": "code",
      "source": [
        "vegsub <- veg[which(veg$adjEasting >= ext(chm)[1] &\n",
        "                      veg$adjEasting <= ext(chm)[2] &\n",
        "                      veg$adjNorthing >= ext(chm)[3] &\n",
        "                      veg$adjNorthing <= ext(chm)[4]),]"
      ],
      "metadata": {
        "id": "ieSBA1jwGbTt"
      },
      "execution_count": null,
      "outputs": []
    },
    {
      "cell_type": "code",
      "source": [
        "valCHM <- extract(chm,\n",
        "                  cbind(vegsub$adjEasting,\n",
        "                  vegsub$adjNorthing))\n",
        "\n",
        "\n",
        "\n",
        "plot(valCHM$NEON_D16_WREF_DP3_580000_5075000_CHM~\n",
        "       vegsub$height, pch=20, xlab=\"Height\",\n",
        "     ylab=\"Canopy height model\")\n",
        "\n",
        "lines(c(0,50), c(0,50), col=\"grey\")"
      ],
      "metadata": {
        "id": "Y8t6sV57Gc9_"
      },
      "execution_count": null,
      "outputs": []
    },
    {
      "cell_type": "code",
      "source": [
        "cor(valCHM$NEON_D16_WREF_DP3_580000_5075000_CHM,\n",
        "    vegsub$height, use=\"complete\")\n",
        "\n",
        "## [1] 0.3824467"
      ],
      "metadata": {
        "id": "6EE0yQMSGe8O"
      },
      "execution_count": null,
      "outputs": []
    },
    {
      "cell_type": "code",
      "source": [
        "valCHMbuff <- extract(chm,\n",
        "                  buffer(vect(cbind(vegsub$adjEasting,\n",
        "                  vegsub$adjNorthing)),\n",
        "                  width=vegsub$adjCoordinateUncertainty),\n",
        "                  fun=max)\n",
        "\n",
        "\n",
        "\n",
        "plot(valCHMbuff$NEON_D16_WREF_DP3_580000_5075000_CHM~\n",
        "       vegsub$height, pch=20, xlab=\"Height\",\n",
        "     ylab=\"Canopy height model\")\n",
        "\n",
        "lines(c(0,50), c(0,50), col=\"grey\")"
      ],
      "metadata": {
        "id": "pPU7VX3KGgd-"
      },
      "execution_count": null,
      "outputs": []
    },
    {
      "cell_type": "code",
      "source": [
        "cor(valCHMbuff$NEON_D16_WREF_DP3_580000_5075000_CHM,\n",
        "    vegsub$height, use=\"complete\")\n",
        "\n",
        "## [1] 0.3698753"
      ],
      "metadata": {
        "id": "od_f7WSJGid3"
      },
      "execution_count": null,
      "outputs": []
    },
    {
      "cell_type": "markdown",
      "source": [
        "map-centric approach"
      ],
      "metadata": {
        "id": "zWx7xxxzPKKS"
      }
    },
    {
      "cell_type": "code",
      "source": [
        "easting10 <- 10*floor(vegsub$adjEasting/10)\n",
        "\n",
        "northing10 <- 10*floor(vegsub$adjNorthing/10)\n",
        "\n",
        "vegsub <- cbind(vegsub, easting10, northing10)"
      ],
      "metadata": {
        "id": "wYfd1wYRGkQi"
      },
      "execution_count": null,
      "outputs": []
    },
    {
      "cell_type": "code",
      "source": [
        "attributes(vegsub)"
      ],
      "metadata": {
        "id": "gsgSJFdEN1GU"
      },
      "execution_count": null,
      "outputs": []
    },
    {
      "cell_type": "code",
      "source": [
        "vegbin <- stats::aggregate(vegsub,\n",
        "                           by=list(vegsub$easting10,\n",
        "                                   vegsub$northing10),\n",
        "                           FUN=max)"
      ],
      "metadata": {
        "id": "7_R3paHwGlxo"
      },
      "execution_count": null,
      "outputs": []
    },
    {
      "cell_type": "code",
      "source": [
        "CHM10 <- terra::aggregate(chm, fact=10, fun=max)\n",
        "\n",
        "plot(CHM10, col=topo.colors(5))"
      ],
      "metadata": {
        "id": "K5TlS3dSGnVa"
      },
      "execution_count": null,
      "outputs": []
    },
    {
      "cell_type": "code",
      "source": [
        "vegbin$easting10 <- vegbin$easting10 + 5\n",
        "\n",
        "vegbin$northing10 <- vegbin$northing10 + 5\n",
        "\n",
        "binCHM <- extract(CHM10, cbind(vegbin$easting10,\n",
        "                               vegbin$northing10))\n",
        "\n",
        "plot(binCHM$NEON_D16_WREF_DP3_580000_5075000_CHM~\n",
        "       vegbin$height, pch=20,\n",
        "     xlab=\"Height\", ylab=\"Canopy height model\")\n",
        "\n",
        "lines(c(0,50), c(0,50), col=\"grey\")"
      ],
      "metadata": {
        "id": "o0C7Qd8NGo_1"
      },
      "execution_count": null,
      "outputs": []
    },
    {
      "cell_type": "code",
      "source": [
        "cor(binCHM$NEON_D16_WREF_DP3_580000_5075000_CHM,\n",
        "    vegbin$height, use=\"complete\")\n",
        "\n",
        "## [1] 0.2244228"
      ],
      "metadata": {
        "id": "OvUVancTGrIu"
      },
      "execution_count": null,
      "outputs": []
    },
    {
      "cell_type": "markdown",
      "source": [
        "tree-centric approach"
      ],
      "metadata": {
        "id": "z9o_AehkPCOl"
      }
    },
    {
      "cell_type": "code",
      "source": [
        "vegsub <- vegsub[order(vegsub$height,\n",
        "                       decreasing=T),]"
      ],
      "metadata": {
        "id": "xnudAyg3GtOx"
      },
      "execution_count": null,
      "outputs": []
    },
    {
      "cell_type": "code",
      "source": [
        "vegfil <- vegsub\n",
        "\n",
        "for(i in 1:nrow(vegsub)) {\n",
        "    if(is.na(vegfil$height[i]))\n",
        "        next\n",
        "    dist <- sqrt((vegsub$adjEasting[i]-vegsub$adjEasting)^2 +\n",
        "                (vegsub$adjNorthing[i]-vegsub$adjNorthing)^2)\n",
        "    vegfil$height[which(dist<0.3*vegsub$height[i] &\n",
        "                        vegsub$height<vegsub$height[i])] <- NA\n",
        "}\n",
        "\n",
        "\n",
        "\n",
        "vegfil <- vegfil[which(!is.na(vegfil$height)),]"
      ],
      "metadata": {
        "id": "-P3Cu22tGuzO"
      },
      "execution_count": null,
      "outputs": []
    },
    {
      "cell_type": "code",
      "source": [
        "filterCHM <- extract(chm,\n",
        "                     cbind(vegfil$adjEasting,\n",
        "                           vegfil$adjNorthing))\n",
        "\n",
        "plot(filterCHM$NEON_D16_WREF_DP3_580000_5075000_CHM~\n",
        "       vegfil$height, pch=20,\n",
        "     xlab=\"Height\", ylab=\"Canopy height model\")\n",
        "\n",
        "lines(c(0,50), c(0,50), col=\"grey\")"
      ],
      "metadata": {
        "id": "McR91aNQGwU3"
      },
      "execution_count": null,
      "outputs": []
    },
    {
      "cell_type": "code",
      "source": [
        "cor(filterCHM$NEON_D16_WREF_DP3_580000_5075000_CHM,\n",
        "    vegfil$height)\n",
        "\n",
        "## [1] 0.8070586"
      ],
      "metadata": {
        "id": "t3eLM9mDGx4_"
      },
      "execution_count": null,
      "outputs": []
    },
    {
      "cell_type": "code",
      "source": [
        "vegfil <- vegfil[which(vegfil$plantStatus==\"Live\"),]\n",
        "\n",
        "filterCHM <- extract(chm,\n",
        "                     cbind(vegfil$adjEasting,\n",
        "                           vegfil$adjNorthing))\n",
        "\n",
        "plot(filterCHM$NEON_D16_WREF_DP3_580000_5075000_CHM~\n",
        "       vegfil$height, pch=20,\n",
        "     xlab=\"Height\", ylab=\"Canopy height model\")\n",
        "\n",
        "lines(c(0,50), c(0,50), col=\"grey\")"
      ],
      "metadata": {
        "id": "0Tx6aPgpGzMJ"
      },
      "execution_count": null,
      "outputs": []
    },
    {
      "cell_type": "code",
      "source": [
        "cor(filterCHM$NEON_D16_WREF_DP3_580000_5075000_CHM,\n",
        "    vegfil$height)\n",
        "\n",
        "## [1] 0.9057883"
      ],
      "metadata": {
        "id": "tFAroCX2G076"
      },
      "execution_count": null,
      "outputs": []
    }
  ]
}