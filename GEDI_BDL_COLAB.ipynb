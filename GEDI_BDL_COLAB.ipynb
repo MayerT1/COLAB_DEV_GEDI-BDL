{
  "nbformat": 4,
  "nbformat_minor": 0,
  "metadata": {
    "colab": {
      "provenance": [],
      "authorship_tag": "ABX9TyN7HIzKgS3jR98pbv2gcjDw",
      "include_colab_link": true
    },
    "kernelspec": {
      "name": "python3",
      "display_name": "Python 3"
    },
    "language_info": {
      "name": "python"
    }
  },
  "cells": [
    {
      "cell_type": "markdown",
      "metadata": {
        "id": "view-in-github",
        "colab_type": "text"
      },
      "source": [
        "<a href=\"https://colab.research.google.com/github/MayerT1/COLAB_DEV_GEDI-BDL/blob/main/GEDI_BDL_COLAB.ipynb\" target=\"_parent\"><img src=\"https://colab.research.google.com/assets/colab-badge.svg\" alt=\"Open In Colab\"/></a>"
      ]
    },
    {
      "cell_type": "markdown",
      "source": [
        "# https://github.com/langnico/GEDI-BDL/tree/main"
      ],
      "metadata": {
        "id": "xYr5qo3CrLGL"
      }
    },
    {
      "cell_type": "markdown",
      "source": [
        "Not np.bool changed ot bool for dataset.py (line 40, 114,127) for bash DEMO_GEDI_orbit_prediction.sh"
      ],
      "metadata": {
        "id": "rTWt_HU4zoCn"
      }
    },
    {
      "cell_type": "code",
      "execution_count": 15,
      "metadata": {
        "colab": {
          "base_uri": "https://localhost:8080/"
        },
        "id": "-uPAzEbEsUqb",
        "outputId": "46fcf9f4-3dd7-452f-c90b-42d48d76d346"
      },
      "outputs": [
        {
          "output_type": "stream",
          "name": "stdout",
          "text": [
            "Cloning into 'GEDI-BDL'...\n",
            "remote: Enumerating objects: 30, done.\u001b[K\n",
            "remote: Counting objects: 100% (30/30), done.\u001b[K\n",
            "remote: Compressing objects: 100% (25/25), done.\u001b[K\n",
            "remote: Total 30 (delta 4), reused 30 (delta 4), pack-reused 0 (from 0)\u001b[K\n",
            "Receiving objects: 100% (30/30), 31.39 KiB | 1.25 MiB/s, done.\n",
            "Resolving deltas: 100% (4/4), done.\n"
          ]
        }
      ],
      "source": [
        "!git clone https://github.com/langnico/GEDI-BDL.git"
      ]
    },
    {
      "cell_type": "code",
      "source": [
        "!pwd"
      ],
      "metadata": {
        "colab": {
          "base_uri": "https://localhost:8080/"
        },
        "id": "F8P9Kz9vtRnQ",
        "outputId": "07fdaeb7-0413-4646-961a-2ef1c405b954"
      },
      "execution_count": 29,
      "outputs": [
        {
          "output_type": "stream",
          "name": "stdout",
          "text": [
            "/content/GEDI-BDL\n"
          ]
        }
      ]
    },
    {
      "cell_type": "code",
      "source": [
        "%cd /content/GEDI-BDL"
      ],
      "metadata": {
        "colab": {
          "base_uri": "https://localhost:8080/"
        },
        "id": "eWaXKnPttTNN",
        "outputId": "8878de6f-ff25-4796-cccd-2af30d564206"
      },
      "execution_count": 28,
      "outputs": [
        {
          "output_type": "stream",
          "name": "stdout",
          "text": [
            "/content/GEDI-BDL\n"
          ]
        }
      ]
    },
    {
      "cell_type": "code",
      "source": [
        "!ls"
      ],
      "metadata": {
        "colab": {
          "base_uri": "https://localhost:8080/"
        },
        "id": "wHApfI6PYKsf",
        "outputId": "a0f877ff-18f0-4ffa-f214-aeac0eff7e01"
      },
      "execution_count": 30,
      "outputs": [
        {
          "output_type": "stream",
          "name": "stdout",
          "text": [
            "cluster\t\t\t\t\t   GEDI-BDL\t     torch_code\n",
            "DEMO_GEDI_orbit_prediction.sh\t\t   README.md\n",
            "DEMO_GEDI_regression_crossval_ensemble.sh  requirements.txt\n"
          ]
        }
      ]
    },
    {
      "cell_type": "code",
      "source": [
        "!pip install numpy==1.20.1"
      ],
      "metadata": {
        "colab": {
          "base_uri": "https://localhost:8080/"
        },
        "id": "50OyMufHq2TM",
        "outputId": "5a06cc6e-0d76-4c36-aa16-27912c923a44"
      },
      "execution_count": 52,
      "outputs": [
        {
          "output_type": "stream",
          "name": "stdout",
          "text": [
            "Collecting numpy==1.20.1\n",
            "  Downloading numpy-1.20.1.zip (7.8 MB)\n",
            "\u001b[2K     \u001b[90m━━━━━━━━━━━━━━━━━━━━━━━━━━━━━━━━━━━━━━━━\u001b[0m \u001b[32m7.8/7.8 MB\u001b[0m \u001b[31m44.3 MB/s\u001b[0m eta \u001b[36m0:00:00\u001b[0m\n",
            "\u001b[?25h  Installing build dependencies ... \u001b[?25l\u001b[?25hdone\n",
            "  Getting requirements to build wheel ... \u001b[?25l\u001b[?25hdone\n",
            "  Preparing metadata (pyproject.toml) ... \u001b[?25l\u001b[?25hdone\n",
            "Building wheels for collected packages: numpy\n",
            "  \u001b[1;31merror\u001b[0m: \u001b[1msubprocess-exited-with-error\u001b[0m\n",
            "  \n",
            "  \u001b[31m×\u001b[0m \u001b[32mBuilding wheel for numpy \u001b[0m\u001b[1;32m(\u001b[0m\u001b[32mpyproject.toml\u001b[0m\u001b[1;32m)\u001b[0m did not run successfully.\n",
            "  \u001b[31m│\u001b[0m exit code: \u001b[1;36m1\u001b[0m\n",
            "  \u001b[31m╰─>\u001b[0m See above for output.\n",
            "  \n",
            "  \u001b[1;35mnote\u001b[0m: This error originates from a subprocess, and is likely not a problem with pip.\n",
            "  Building wheel for numpy (pyproject.toml) ... \u001b[?25l\u001b[?25herror\n",
            "\u001b[31m  ERROR: Failed building wheel for numpy\u001b[0m\u001b[31m\n",
            "\u001b[0mFailed to build numpy\n",
            "\u001b[31mERROR: ERROR: Failed to build installable wheels for some pyproject.toml based projects (numpy)\u001b[0m\u001b[31m\n",
            "\u001b[0m"
          ]
        }
      ]
    },
    {
      "cell_type": "code",
      "source": [
        "import matplotlib\n",
        "import h5py\n",
        "import torchvision\n",
        "import numpy as np\n",
        "import scipy\n",
        "import tqdm\n",
        "import pandas as pd\n",
        "# import torch-summary\n",
        "# import opencv_python\n",
        "import torch\n",
        "import torchsummary\n",
        "import tensorboard\n",
        "\n",
        "\n",
        "\n",
        "# h5py==3.1.0\n",
        "# !pip install torchvision==0.8.2\n",
        "# # numpy==1.20.1\n",
        "# # scipy==1.6.1\n",
        "# # tqdm==4.57.0\n",
        "# # pandas==1.2.2\n",
        "# # torch_summary==1.4.5\n",
        "# # opencv_python==4.5.1.48\n",
        "# # torch==1.7.1\n",
        "# # torchsummary==1.5.1\n",
        "# # tensorboard"
      ],
      "metadata": {
        "id": "zRPf3J7TwMyo"
      },
      "execution_count": 33,
      "outputs": []
    },
    {
      "cell_type": "code",
      "source": [
        "!pip install opencv-python"
      ],
      "metadata": {
        "colab": {
          "base_uri": "https://localhost:8080/"
        },
        "id": "LKgKMt9xxqSg",
        "outputId": "140d36d8-81e9-4498-bab2-0bb58a3d4a94"
      },
      "execution_count": 20,
      "outputs": [
        {
          "output_type": "stream",
          "name": "stdout",
          "text": [
            "Requirement already satisfied: opencv-python in /usr/local/lib/python3.11/dist-packages (4.11.0.86)\n",
            "Requirement already satisfied: numpy>=1.21.2 in /usr/local/lib/python3.11/dist-packages (from opencv-python) (1.26.4)\n"
          ]
        }
      ]
    },
    {
      "cell_type": "code",
      "source": [
        "import cv2"
      ],
      "metadata": {
        "id": "rRpDMD7Cxrks"
      },
      "execution_count": 21,
      "outputs": []
    },
    {
      "cell_type": "code",
      "source": [
        "!pip install torch-summary"
      ],
      "metadata": {
        "colab": {
          "base_uri": "https://localhost:8080/"
        },
        "id": "S5gu7tDNx1y-",
        "outputId": "deee6e8c-e722-4f6e-b6fa-59d2b9eb3a81"
      },
      "execution_count": 22,
      "outputs": [
        {
          "output_type": "stream",
          "name": "stdout",
          "text": [
            "Requirement already satisfied: torch-summary in /usr/local/lib/python3.11/dist-packages (1.4.5)\n"
          ]
        }
      ]
    },
    {
      "cell_type": "code",
      "source": [
        "from torchsummary import summary"
      ],
      "metadata": {
        "id": "wdbvrtGkx-yV"
      },
      "execution_count": 23,
      "outputs": []
    },
    {
      "cell_type": "markdown",
      "source": [
        "# Mount"
      ],
      "metadata": {
        "id": "h-AjlH-uWa8k"
      }
    },
    {
      "cell_type": "code",
      "source": [
        "from google.colab import drive\n",
        "drive.mount('/content/drive/')"
      ],
      "metadata": {
        "id": "C8bwp1QaWfH0",
        "colab": {
          "base_uri": "https://localhost:8080/"
        },
        "outputId": "93988915-a913-4dbd-fe33-96fecd1e470e"
      },
      "execution_count": 24,
      "outputs": [
        {
          "output_type": "stream",
          "name": "stdout",
          "text": [
            "Drive already mounted at /content/drive/; to attempt to forcibly remount, call drive.mount(\"/content/drive/\", force_remount=True).\n"
          ]
        }
      ]
    },
    {
      "cell_type": "code",
      "source": [
        "%cd /content/drive/MyDrive/PhD_Main_Folder/Geo_Data/GEDI_BDL_demo"
      ],
      "metadata": {
        "colab": {
          "base_uri": "https://localhost:8080/"
        },
        "id": "K5JiXBuFWcgA",
        "outputId": "0ad8bfe2-9994-4500-86df-e03ca3ef96ca"
      },
      "execution_count": 67,
      "outputs": [
        {
          "output_type": "stream",
          "name": "stdout",
          "text": [
            "/content/drive/MyDrive/PhD_Main_Folder/Geo_Data/GEDI_BDL_demo\n"
          ]
        }
      ]
    },
    {
      "cell_type": "code",
      "source": [
        "!ls"
      ],
      "metadata": {
        "colab": {
          "base_uri": "https://localhost:8080/"
        },
        "id": "gGzpyXibWo_O",
        "outputId": "aedd348d-08a1-4cca-fd72-2c9928f64b38"
      },
      "execution_count": 26,
      "outputs": [
        {
          "output_type": "stream",
          "name": "stdout",
          "text": [
            "DEMO_orbit_files  GEDI_BDL_demo_subset_neon.npy  output_demo  README.txt\n"
          ]
        }
      ]
    },
    {
      "cell_type": "markdown",
      "source": [
        "# Explore data"
      ],
      "metadata": {
        "id": "J_H-f9cQm-r_"
      }
    },
    {
      "cell_type": "code",
      "source": [
        "numpy_array = np.load('/content/drive/MyDrive/PhD_Main_Folder/Geo_Data/GEDI_BDL_demo/GEDI_BDL_demo_subset_neon.npy', allow_pickle=True) # Replace 'your_file.npy' with the actual file name\n",
        "\n",
        "# df = pd.DataFrame(numpy_array)\n",
        "\n",
        "# print(df)"
      ],
      "metadata": {
        "id": "46qtw2wlnJIa"
      },
      "execution_count": null,
      "outputs": []
    },
    {
      "cell_type": "code",
      "source": [
        "numpy_array"
      ],
      "metadata": {
        "colab": {
          "base_uri": "https://localhost:8080/"
        },
        "id": "CVu0sHTInh9t",
        "outputId": "bf7d70a9-349e-4109-ca31-b6749185aa6b"
      },
      "execution_count": 47,
      "outputs": [
        {
          "output_type": "execute_result",
          "data": {
            "text/plain": [
              "array({'shot_number': array([   0,    1,    2, ..., 6865, 6866, 6867]), 'rxwaveform': array([[207.5972 , 207.6864 , 206.94008, ..., 205.5    , 205.5    ,\n",
              "        205.5    ],\n",
              "       [226.22171, 225.97652, 225.96756, ..., 227.5    , 227.5    ,\n",
              "        227.5    ],\n",
              "       [222.24438, 221.60117, 220.98274, ..., 222.75   , 222.75   ,\n",
              "        222.75   ],\n",
              "       ...,\n",
              "       [224.96658, 225.77327, 226.44101, ..., 222.9375 , 222.9375 ,\n",
              "        222.9375 ],\n",
              "       [223.95627, 224.81387, 225.71565, ..., 222.3125 , 222.3125 ,\n",
              "        222.3125 ],\n",
              "       [242.0358 , 241.90387, 241.60089, ..., 241.625  , 241.625  ,\n",
              "        241.625  ]], dtype=float32), 'als_rh098': array([36.01,  2.57,  1.74, ..., 31.32, 15.5 , 18.38]), 'noise_mean_corrected': array([205.5   , 227.5   , 222.75  , ..., 222.9375, 222.3125, 241.625 ]), 'solar_elevation': array([ 56.91944  ,  40.47204  ,  57.80198  , ...,   5.5208907,\n",
              "        40.46134  , -42.754166 ], dtype=float32), 'coverage_flag': array([0, 0, 0, ..., 0, 0, 1])},\n",
              "      dtype=object)"
            ]
          },
          "metadata": {},
          "execution_count": 47
        }
      ]
    },
    {
      "cell_type": "markdown",
      "source": [
        "# Run Shell"
      ],
      "metadata": {
        "id": "tENQ368RYt8f"
      }
    },
    {
      "cell_type": "code",
      "source": [
        "%cd /content/GEDI-BDL\n",
        "!bash /content/GEDI-BDL/DEMO_GEDI_regression_crossval_ensemble.sh"
      ],
      "metadata": {
        "id": "Tg316wIrYvDd",
        "colab": {
          "base_uri": "https://localhost:8080/"
        },
        "outputId": "09b35afc-18ee-4e51-f9f7-35f055d1c7b3"
      },
      "execution_count": 69,
      "outputs": [
        {
          "output_type": "stream",
          "name": "stdout",
          "text": [
            "/content/GEDI-BDL\n",
            "/content/GEDI-BDL/DEMO_GEDI_regression_crossval_ensemble.sh: line 8: /content/drive/MyDrive/PhD_Main_Folder/Geo_Data/GEDI_BDL_demo/GEDI_BDL_demo_subset_neon.npy: Permission denied\n",
            "job index: 0\n",
            "model_idx: 0\n",
            "test_fold_idx: 0\n",
            "output directory: output_demo/testfold_0/model_0\n",
            "2025-02-17 21:18:50.360902: E external/local_xla/xla/stream_executor/cuda/cuda_fft.cc:477] Unable to register cuFFT factory: Attempting to register factory for plugin cuFFT when one has already been registered\n",
            "WARNING: All log messages before absl::InitializeLog() is called are written to STDERR\n",
            "E0000 00:00:1739827130.418400   32333 cuda_dnn.cc:8310] Unable to register cuDNN factory: Attempting to register factory for plugin cuDNN when one has already been registered\n",
            "E0000 00:00:1739827130.429462   32333 cuda_blas.cc:1418] Unable to register cuBLAS factory: Attempting to register factory for plugin cuBLAS when one has already been registered\n",
            "2025-02-17 21:18:50.467091: I tensorflow/core/platform/cpu_feature_guard.cc:210] This TensorFlow binary is optimized to use available CPU instructions in performance-critical operations.\n",
            "To enable the following instructions: AVX2 FMA, in other operations, rebuild TensorFlow with the appropriate compiler flags.\n",
            "=================================================================\n",
            "Layer (type:depth-idx)                   Param #\n",
            "=================================================================\n",
            "├─ReLU: 1-1                              --\n",
            "├─Sequential: 1-2                        --\n",
            "|    └─BasicBlock: 2-1                   --\n",
            "|    |    └─Conv1d: 3-1                  48\n",
            "|    |    └─BatchNorm1d: 3-2             32\n",
            "|    |    └─ReLU: 3-3                    --\n",
            "|    |    └─Conv1d: 3-4                  768\n",
            "|    |    └─BatchNorm1d: 3-5             32\n",
            "|    |    └─Sequential: 3-6              48\n",
            "|    └─MaxPool1d: 2-2                    --\n",
            "|    └─BasicBlock: 2-3                   --\n",
            "|    |    └─Conv1d: 3-7                  1,536\n",
            "|    |    └─BatchNorm1d: 3-8             64\n",
            "|    |    └─ReLU: 3-9                    --\n",
            "|    |    └─Conv1d: 3-10                 3,072\n",
            "|    |    └─BatchNorm1d: 3-11            64\n",
            "|    |    └─Sequential: 3-12             576\n",
            "|    └─MaxPool1d: 2-4                    --\n",
            "|    └─BasicBlock: 2-5                   --\n",
            "|    |    └─Conv1d: 3-13                 6,144\n",
            "|    |    └─BatchNorm1d: 3-14            128\n",
            "|    |    └─ReLU: 3-15                   --\n",
            "|    |    └─Conv1d: 3-16                 12,288\n",
            "|    |    └─BatchNorm1d: 3-17            128\n",
            "|    |    └─Sequential: 3-18             2,176\n",
            "|    └─MaxPool1d: 2-6                    --\n",
            "|    └─BasicBlock: 2-7                   --\n",
            "|    |    └─Conv1d: 3-19                 24,576\n",
            "|    |    └─BatchNorm1d: 3-20            256\n",
            "|    |    └─ReLU: 3-21                   --\n",
            "|    |    └─Conv1d: 3-22                 49,152\n",
            "|    |    └─BatchNorm1d: 3-23            256\n",
            "|    |    └─Sequential: 3-24             8,448\n",
            "|    └─MaxPool1d: 2-8                    --\n",
            "|    └─BasicBlock: 2-9                   --\n",
            "|    |    └─Conv1d: 3-25                 49,152\n",
            "|    |    └─BatchNorm1d: 3-26            256\n",
            "|    |    └─ReLU: 3-27                   --\n",
            "|    |    └─Conv1d: 3-28                 49,152\n",
            "|    |    └─BatchNorm1d: 3-29            256\n",
            "|    └─MaxPool1d: 2-10                   --\n",
            "|    └─BasicBlock: 2-11                  --\n",
            "|    |    └─Conv1d: 3-30                 49,152\n",
            "|    |    └─BatchNorm1d: 3-31            256\n",
            "|    |    └─ReLU: 3-32                   --\n",
            "|    |    └─Conv1d: 3-33                 49,152\n",
            "|    |    └─BatchNorm1d: 3-34            256\n",
            "|    └─MaxPool1d: 2-12                   --\n",
            "|    └─BasicBlock: 2-13                  --\n",
            "|    |    └─Conv1d: 3-35                 49,152\n",
            "|    |    └─BatchNorm1d: 3-36            256\n",
            "|    |    └─ReLU: 3-37                   --\n",
            "|    |    └─Conv1d: 3-38                 49,152\n",
            "|    |    └─BatchNorm1d: 3-39            256\n",
            "|    └─MaxPool1d: 2-14                   --\n",
            "|    └─BasicBlock: 2-15                  --\n",
            "|    |    └─Conv1d: 3-40                 49,152\n",
            "|    |    └─BatchNorm1d: 3-41            256\n",
            "|    |    └─ReLU: 3-42                   --\n",
            "|    |    └─Conv1d: 3-43                 49,152\n",
            "|    |    └─BatchNorm1d: 3-44            256\n",
            "|    └─MaxPool1d: 2-16                   --\n",
            "├─AdaptiveAvgPool1d: 1-3                 --\n",
            "├─Dropout: 1-4                           --\n",
            "├─Linear: 1-5                            258\n",
            "=================================================================\n",
            "Total params: 505,314\n",
            "Trainable params: 505,314\n",
            "Non-trainable params: 0\n",
            "=================================================================\n",
            "Start loading dataset.\n",
            "Traceback (most recent call last):\n",
            "  File \"/content/GEDI-BDL/torch_code/train.py\", line 34, in <module>\n",
            "    trainer = Trainer(model=model, log_dir=tensorboard_log_dir, args=args)\n",
            "              ^^^^^^^^^^^^^^^^^^^^^^^^^^^^^^^^^^^^^^^^^^^^^^^^^^^^^^^^^^^^\n",
            "  File \"/content/GEDI-BDL/torch_code/trainer.py\", line 37, in __init__\n",
            "    self.mean_target_train, self.std_target_train= self._setup_dataset()\n",
            "                                                   ^^^^^^^^^^^^^^^^^^^^^\n",
            "  File \"/content/GEDI-BDL/torch_code/trainer.py\", line 90, in _setup_dataset\n",
            "    dataset = CrossOverDataMem(input_path=self.args.inputs_path,\n",
            "              ^^^^^^^^^^^^^^^^^^^^^^^^^^^^^^^^^^^^^^^^^^^^^^^^^^\n",
            "  File \"/content/GEDI-BDL/torch_code/dataset.py\", line 310, in __init__\n",
            "    super(CrossOverDataMem, self).__init__(input_path, target_path, min_gt, max_gt, sample_length, input_transforms,\n",
            "  File \"/content/GEDI-BDL/torch_code/dataset.py\", line 251, in __init__\n",
            "    self.inputs, self.targets, self.mean_noise_lvls, self.quality_indices_train, self.quality_indices_valtest, self.split_attribute = self._get_data()\n",
            "                                                                                                                                      ^^^^^^^^^^^^^^^^\n",
            "  File \"/content/GEDI-BDL/torch_code/dataset.py\", line 326, in _get_data\n",
            "    data = np.load(self.input_path, allow_pickle=True).item()\n",
            "           ^^^^^^^^^^^^^^^^^^^^^^^^^^^^^^^^^^^^^^^^^^^\n",
            "  File \"/usr/local/lib/python3.11/dist-packages/numpy/lib/npyio.py\", line 427, in load\n",
            "    fid = stack.enter_context(open(os_fspath(file), \"rb\"))\n",
            "                              ^^^^^^^^^^^^^^^^^^^^^^^^^^^\n",
            "IsADirectoryError: [Errno 21] Is a directory: '.'\n"
          ]
        }
      ]
    },
    {
      "cell_type": "code",
      "source": [
        "# %cd /content/GEDI-BDL/output_demo/testfold_0/model_0/log\n",
        "# !ls\n",
        "# %load_ext tensorboard\n",
        "# %tensorboard --logdir log/"
      ],
      "metadata": {
        "id": "H4sYxZbPwjqu"
      },
      "execution_count": null,
      "outputs": []
    },
    {
      "cell_type": "markdown",
      "source": [
        "# GEDI"
      ],
      "metadata": {
        "id": "7uYeBeqUv9ch"
      }
    },
    {
      "cell_type": "code",
      "source": [
        "%cd /content/GEDI-BDL/\n",
        "!ls"
      ],
      "metadata": {
        "colab": {
          "base_uri": "https://localhost:8080/"
        },
        "id": "PCL3-vNfzDek",
        "outputId": "12d5168f-5724-42b7-afaf-328a1d27376c"
      },
      "execution_count": 79,
      "outputs": [
        {
          "output_type": "stream",
          "name": "stdout",
          "text": [
            "/content/GEDI-BDL\n",
            "cluster\t\t\t\t      DEMO_GEDI_regression_crossval_ensemble.sh  README.md\n",
            "DEMO_GEDI_orbit_prediction.sh\t      GEDI-BDL\t\t\t\t\t requirements.txt\n",
            "Demo_GEDI_orbit_prediction_SH_output  output_demo\t\t\t\t torch_code\n"
          ]
        }
      ]
    },
    {
      "cell_type": "code",
      "source": [
        "!bash /content/GEDI-BDL/DEMO_GEDI_orbit_prediction.sh"
      ],
      "metadata": {
        "colab": {
          "base_uri": "https://localhost:8080/"
        },
        "id": "jhqCRR9sopQ4",
        "outputId": "63ad9ae0-139e-4138-d626-b2fb381733eb"
      },
      "execution_count": 81,
      "outputs": [
        {
          "output_type": "stream",
          "name": "stdout",
          "text": [
            "L1B_path:\n",
            "/content/drive/MyDrive/PhD_Main_Folder/Geo_Data/GEDI_BDL_demo/DEMO_orbit_files/L1B/GEDI01_B_2019224233051_O03775_T03020_02_003_01.h5\n",
            "L2A_path:\n",
            "/content/drive/MyDrive/PhD_Main_Folder/Geo_Data/GEDI_BDL_demo/DEMO_orbit_files/L2A/processed_GEDI02_A_2019224233051_O03775_T03020_02_001_01.h5\n",
            "output directory:\n",
            "Demo_GEDI_orbit_prediction_SH_output\n",
            "Loading L2A...\n",
            "shot_number (1565860,) uint64\n",
            "quality_flag (1565860,) bool\n",
            "lat_lowestmode (1565860,) float64\n",
            "lon_lowestmode (1565860,) float64\n",
            "modis_nonvegetated (1565860,) float64\n",
            "Loading L1B...\n",
            "BEAM0000\n",
            "parsing full rxwaveform array...\n",
            "rxwaveform_all.shape (454756420,)\n",
            "extracting waveform starts and ends\n",
            "max count 1419\n",
            "cutting into single waveforms...\n",
            "size_rxwaveform 454756420\n",
            "BEAM0001\n",
            "parsing full rxwaveform array...\n",
            "rxwaveform_all.shape (444386160,)\n",
            "extracting waveform starts and ends\n",
            "max count 1419\n",
            "cutting into single waveforms...\n",
            "size_rxwaveform 444386160\n",
            "BEAM0010\n",
            "parsing full rxwaveform array...\n",
            "rxwaveform_all.shape (455814320,)\n",
            "extracting waveform starts and ends\n",
            "max count 1419\n",
            "cutting into single waveforms...\n",
            "size_rxwaveform 455814320\n",
            "BEAM0011\n",
            "parsing full rxwaveform array...\n",
            "/content/GEDI-BDL/DEMO_GEDI_orbit_prediction.sh: line 47: 38414 Killed                  python3 torch_code/predict.py --ensemble_dir=${ensemble_dir} --n_models=${n_models} --batch_size=${batch_size} --file_path_L1B=${file_path_L1B} --file_path_L2A=${file_path_L2A} --prediction_dir=${prediction_dir} --model_name=${model_name}\n"
          ]
        }
      ]
    }
  ]
}